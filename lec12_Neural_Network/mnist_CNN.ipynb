{
 "cells": [
  {
   "cell_type": "markdown",
   "metadata": {
    "id": "5_P8TTQOgXG5"
   },
   "source": [
    "# Lecture 12 Convolutional Neural Network Tutoiral\n",
    "\n",
    "## Simple MNIST CNN Model\n",
    "\n",
    "**Last modified:** 2021/12/01<br>\n",
    "**Description:** A simple convolutional Neural network that achieves ~99% test accuracy on MNIST.\n",
    "\n",
    "---\n",
    "### Workflow of the tutorial\n",
    "\n",
    "In the tutorial, we will construct a simple convolution neural network with multiple layers. And the model will be trained with `MNIST` containing binary images of handwritten digits. The model aims to recongize the digit from the images. \n",
    "\n",
    "* [0 - Load packages](#0.1)\n",
    "* [1 - Preprocessing training data](#1.0)\n",
    "    * [1.1 Download training set and testing set of MNIST data from Keras API](#1.1)\n",
    "    * [1.2 Normalize and preprocess data](#1.2)\n",
    "    * [1.3 Visualizing MNIST data](#1.3)\n",
    "* [2 - Construct Convolutional Neural Network](#2.0)\n",
    "    * [2.1 Use Keras.Sequential to build the model](#2.1)\n",
    "    * [2.2 Visualizing the model](#2.1)\n",
    "* [3 Train CNN model with the MNIST data](#3.0)\n",
    "    * [3.1 Train the model with testing set](#3.1)\n",
    "    * [3.2 Visualizing trainning history](#3.2)\n",
    "* [4 Evaluate model](#4.0)\n",
    "    * [4.1 Compare the validating history and training history](#4.1)\n",
    "* [5 Deployment of the model](#5.0)\n",
    "    * [5.1 Export and load the model](#5.1)\n",
    "* [6 Test model with your handwriting](#6.0)\n",
    "    \n",
    "---\n",
    "### <font color=\"#208eb7\"> Tutorial assignment </font>\n",
    "\n",
    "- Questions are included in the tutorial sections. Please answer the questions with respect to the question numbers.\n",
    "- Please submit a **final report** summarizing the method used and corresponding results.\n",
    "    - Graphyics and illustations are encouraged in the report\n",
    "\n",
    "---"
   ]
  },
  {
   "cell_type": "markdown",
   "metadata": {
    "id": "qsgmOkQSgXHC"
   },
   "source": [
    "## Start of the tutorial\n",
    "---\n",
    "<a class=\"anchor\" id=\"0.1\"></a>\n",
    "### 0 - Load Packages\n",
    "\n",
    "In the tutorial, `KERAS` is package is used and it is a deep learning API written in Python, running on top of the machine learning platform TensorFlow. API refers to `Application Programming Interface`.\n",
    "\n",
    "`KERAS` provides organized sample data for different machine learning application. For example, in the following tutorial we will use MNIST dataset dedicated for Convolutional Neural Network application. \n",
    "\n",
    "It also provides pre-constructed layers of machine learning algorithms, thus the developers can select essential abstractions and building blocks for developing and shipping machine learning solutions with ease.\n",
    "\n",
    "---\n",
    "**Notice** A list of compatibility warnings maybe shown during import. These warning can be ignored."
   ]
  },
  {
   "cell_type": "code",
   "execution_count": 1,
   "metadata": {
    "id": "bldpQ8BDgXHE"
   },
   "outputs": [],
   "source": [
    "import numpy as np\n",
    "import matplotlib.pyplot as plt\n",
    "from tensorflow import keras\n",
    "from tensorflow.keras import layers\n",
    "\n",
    "from MNIST_ultities import DrawMyOwnNumbers"
   ]
  },
  {
   "cell_type": "markdown",
   "metadata": {
    "id": "R9Bt2ay6gXHF"
   },
   "source": [
    "<a class=\"anchor\" id=\"1.0\"></a>\n",
    "### 1 - Prepare training data\n",
    "\n",
    "MNIST dataset is a collections of handwritten digital numbers (i.e. 0-9) with 28*28 pixels.\n",
    "\n",
    "The following obtain the dataset from keras database via `keras.datasets.mnist`\n",
    "\n",
    "Please try the code below to see the docstrings of the dataset:\n",
    "\n",
    "    keras.datasets.mnist?\n",
    "    keras.datasets.mnist.load_data?"
   ]
  },
  {
   "cell_type": "code",
   "execution_count": 2,
   "metadata": {},
   "outputs": [
    {
     "data": {
      "text/plain": [
       "\u001b[0;31mSignature:\u001b[0m \u001b[0mkeras\u001b[0m\u001b[0;34m.\u001b[0m\u001b[0mdatasets\u001b[0m\u001b[0;34m.\u001b[0m\u001b[0mmnist\u001b[0m\u001b[0;34m.\u001b[0m\u001b[0mload_data\u001b[0m\u001b[0;34m(\u001b[0m\u001b[0mpath\u001b[0m\u001b[0;34m=\u001b[0m\u001b[0;34m'mnist.npz'\u001b[0m\u001b[0;34m)\u001b[0m\u001b[0;34m\u001b[0m\u001b[0;34m\u001b[0m\u001b[0m\n",
       "\u001b[0;31mDocstring:\u001b[0m\n",
       "Loads the MNIST dataset.\n",
       "\n",
       "Arguments:\n",
       "    path: path where to cache the dataset locally\n",
       "        (relative to ~/.keras/datasets).\n",
       "\n",
       "Returns:\n",
       "    Tuple of Numpy arrays: `(x_train, y_train), (x_test, y_test)`.\n",
       "\n",
       "License:\n",
       "    Yann LeCun and Corinna Cortes hold the copyright of MNIST dataset,\n",
       "    which is a derivative work from original NIST datasets.\n",
       "    MNIST dataset is made available under the terms of the\n",
       "    [Creative Commons Attribution-Share Alike 3.0 license.](\n",
       "    https://creativecommons.org/licenses/by-sa/3.0/)\n",
       "\u001b[0;31mFile:\u001b[0m      ~/miniconda3/envs/ESSC2030_geo/lib/python3.7/site-packages/tensorflow_core/python/keras/datasets/mnist.py\n",
       "\u001b[0;31mType:\u001b[0m      function\n"
      ]
     },
     "metadata": {},
     "output_type": "display_data"
    }
   ],
   "source": [
    "keras.datasets.mnist.load_data?"
   ]
  },
  {
   "cell_type": "markdown",
   "metadata": {},
   "source": [
    "<a class=\"anchor\" id=\"1.1\"></a>\n",
    "#### 1.1 Download training set and testing set of MNIST data from Keras API\n",
    "\n",
    "<a class=\"anchor\" id=\"1.2\"></a>\n",
    "#### 1.2 Normalize and preprocess data\n",
    "- Normalize data (Scale amplitude of the data to [0, 1] range)\n",
    "- Create Suitable data shape and format (28, 28, 1)\n",
    "- Convert 0,1,2,...,9 classes to binary class matrix\n",
    "\n",
    "**Question 1.1** How many handwritten digital numbers in training set and testing set respectively in downloaded data?\n",
    "\n",
    "**Question 1.2** What is the shape of the training data?\n",
    "\n",
    "**Question 1.3** \n",
    "- What is the format of the label (y) before and after the binary class transformation? \n",
    "- What is the label of a '9' digit drawing after the transformation? \n",
    "- Why do we do so?"
   ]
  },
  {
   "cell_type": "code",
   "execution_count": 3,
   "metadata": {
    "id": "xKJ4vvh_gXHF"
   },
   "outputs": [],
   "source": [
    "### 1.1 Download MNIST data\n",
    "# Model / data parameters\n",
    "num_classes = 10\n",
    "input_shape = (28, 28, 1)\n",
    "\n",
    "# the data, split between train and test sets\n",
    "(x_train_mnist, y_train_mnist), (x_test_mnist, y_test_mnist) = keras.datasets.mnist.load_data()\n",
    "\n",
    "### 1.2 Nomalize and preprocess data\n",
    "# Scale images to the [0, 1] range\n",
    "x_train = x_train_mnist.astype(\"float32\") / 255\n",
    "x_test = x_test_mnist.astype(\"float32\") / 255\n",
    "# Make sure images have shape (28, 28, 1)\n",
    "x_train = np.expand_dims(x_train_mnist, -1)\n",
    "x_test = np.expand_dims(x_test_mnist, -1)\n",
    "#print(\"x_train shape:\", x_train.shape)\n",
    "#print(x_train.shape[0], \"train samples\")\n",
    "#print(x_test.shape[0], \"test samples\")\n",
    "\n",
    "\n",
    "# convert class vectors to binary class matrices\n",
    "y_train = keras.utils.to_categorical(y_train_mnist, num_classes)\n",
    "y_test = keras.utils.to_categorical(y_test_mnist, num_classes)"
   ]
  },
  {
   "cell_type": "markdown",
   "metadata": {},
   "source": [
    "<a class=\"anchor\" id=\"1.3\"></a>\n",
    "#### 1.3 Visualizing MNIST data\n",
    "\n",
    "The following will plot the data using Matplotlib.pyplot with single plot and multiple subplots.\n",
    "\n",
    "**Questuon 1.4** Plot 0-9 handwritten digits (in total 10) from MNIST data accordingly."
   ]
  },
  {
   "cell_type": "code",
   "execution_count": 4,
   "metadata": {},
   "outputs": [
    {
     "data": {
      "image/png": "[encoded data removed]",
      "text/plain": [
       "<Figure size 432x288 with 1 Axes>"
      ]
     },
     "metadata": {
      "needs_background": "light"
     },
     "output_type": "display_data"
    },
    {
     "data": {
      "image/png": "[encoded data removed]",
      "text/plain": [
       "<Figure size 540x288 with 10 Axes>"
      ]
     },
     "metadata": {
      "needs_background": "light"
     },
     "output_type": "display_data"
    }
   ],
   "source": [
    "import matplotlib.pyplot as plt\n",
    "%matplotlib inline\n",
    "\n",
    "### pick a sample to plot\n",
    "sample = 1\n",
    "image = x_train_mnist[sample]\n",
    "label = y_train_mnist[sample]\n",
    "# plot the sample\n",
    "fig = plt.figure\n",
    "plt.imshow(image, cmap='gray')\n",
    "plt.title('Label: {}'.format(label))\n",
    "plt.show()\n",
    "\n",
    "### Multiple plot\n",
    "num = 10\n",
    "images = x_train_mnist[:num]\n",
    "labels = y_train_mnist[:num]\n",
    "\n",
    "num_row = 2\n",
    "num_col = 5\n",
    "# plot images\n",
    "fig, axes = plt.subplots(num_row, num_col, figsize=(1.5*num_col,2*num_row))\n",
    "for i in range(num):\n",
    "    ax = axes[i//num_col, i%num_col]\n",
    "    ax.imshow(images[i], cmap='gray_r')\n",
    "    ax.set_title('Label: {}'.format(labels[i]))\n",
    "plt.tight_layout()\n",
    "plt.show()"
   ]
  },
  {
   "cell_type": "markdown",
   "metadata": {
    "id": "gsHgH7A2gXHG"
   },
   "source": [
    "<a class=\"anchor\" id=\"2.0\"></a>\n",
    "### 2 - Construct Convolutional Neural Network\n",
    "<a class=\"anchor\" id=\"2.1\"></a>\n",
    "#### 2.1 Use Keras.Sequential to build the model\n",
    "- Using ` keras.Sequential( [ Layers ] )`\n",
    "\n",
    "**Questions 2.1** How many layers of convolution in the model below?\n",
    "\n",
    "**Questions 2.2** What is the input shape of the model and the output shape of the model?"
   ]
  },
  {
   "cell_type": "code",
   "execution_count": 5,
   "metadata": {
    "id": "dxC6sX0ogXHG"
   },
   "outputs": [
    {
     "name": "stdout",
     "output_type": "stream",
     "text": [
      "Model: \"sequential\"\n",
      "_________________________________________________________________\n",
      "Layer (type)                 Output Shape              Param #   \n",
      "=================================================================\n",
      "conv2d (Conv2D)              (None, 26, 26, 32)        320       \n",
      "_________________________________________________________________\n",
      "max_pooling2d (MaxPooling2D) (None, 13, 13, 32)        0         \n",
      "_________________________________________________________________\n",
      "conv2d_1 (Conv2D)            (None, 11, 11, 64)        18496     \n",
      "_________________________________________________________________\n",
      "max_pooling2d_1 (MaxPooling2 (None, 5, 5, 64)          0         \n",
      "_________________________________________________________________\n",
      "flatten (Flatten)            (None, 1600)              0         \n",
      "_________________________________________________________________\n",
      "dropout (Dropout)            (None, 1600)              0         \n",
      "_________________________________________________________________\n",
      "dense (Dense)                (None, 10)                16010     \n",
      "=================================================================\n",
      "Total params: 34,826\n",
      "Trainable params: 34,826\n",
      "Non-trainable params: 0\n",
      "_________________________________________________________________\n"
     ]
    },
    {
     "name": "stderr",
     "output_type": "stream",
     "text": [
      "2021-12-14 23:28:04.406224: I tensorflow/core/platform/cpu_feature_guard.cc:145] This TensorFlow binary is optimized with Intel(R) MKL-DNN to use the following CPU instructions in performance critical operations:  SSE4.1 SSE4.2 AVX AVX2 AVX512F FMA\n",
      "To enable them in non-MKL-DNN operations, rebuild TensorFlow with the appropriate compiler flags.\n",
      "2021-12-14 23:28:04.406501: I tensorflow/core/common_runtime/process_util.cc:115] Creating new thread pool with default inter op setting: 8. Tune using inter_op_parallelism_threads for best performance.\n"
     ]
    }
   ],
   "source": [
    "model = keras.Sequential(\n",
    "    [\n",
    "        layers.InputLayer(input_shape),\n",
    "        layers.Conv2D(32, kernel_size=(3, 3), activation=\"relu\"),\n",
    "        layers.MaxPooling2D(pool_size=(2, 2)),\n",
    "        layers.Conv2D(64, kernel_size=(3, 3), activation=\"relu\"),\n",
    "        layers.MaxPooling2D(pool_size=(2, 2)),\n",
    "        layers.Flatten(),\n",
    "        layers.Dropout(0.5),\n",
    "        layers.Dense(num_classes, activation=\"softmax\"),\n",
    "    ]\n",
    ")\n",
    "\n",
    "model.summary()"
   ]
  },
  {
   "cell_type": "markdown",
   "metadata": {},
   "source": [
    "<a class=\"anchor\" id=\"2.2\"></a>\n",
    "#### 2.2 Visualizing the model\n",
    "\n",
    "<img src=\"img/MNIST_CNN.png\" width=\"400\">\n",
    "**Notice** Install `pydot` package via `pip install pydot` if required\n",
    "\n",
    "**Questions 2.3** Plot the model using the `keras.utils.plot_model`"
   ]
  },
  {
   "cell_type": "code",
   "execution_count": 6,
   "metadata": {},
   "outputs": [
    {
     "data": {
      "image/png": "[encoded data removed]",
      "text/plain": [
       "<IPython.core.display.Image object>"
      ]
     },
     "execution_count": 6,
     "metadata": {},
     "output_type": "execute_result"
    }
   ],
   "source": [
    "from tensorflow.keras.utils import plot_model\n",
    "plot_model(model, \n",
    "       show_shapes=True,\n",
    "       show_layer_names=True,\n",
    "       rankdir=\"LR\" # TB - vertical plot; LR - horizontal plot\n",
    "    )"
   ]
  },
  {
   "cell_type": "markdown",
   "metadata": {
    "id": "6pLiwwGjgXHG"
   },
   "source": [
    "<a class=\"anchor\" id=\"3.0\"></a>\n",
    "### 3. Train the model\n",
    "<a class=\"anchor\" id=\"3.1\"></a>\n",
    "#### 3.1\n",
    "In the following, we will train the model with the dataset prepared (training set). \n",
    "\n",
    "    Batch   - Number of samples processed before the model is updated\n",
    "            (Number of samples per gradient update)\n",
    "    epochs - Number of complete passes through the training dataset\n",
    "    validation_split - Fraction of the training data to be used as validation data\n",
    "    \n",
    "**Question 3.1** Use batch_size = 128 and epochs = 15 to train the model. What is batch_size and epochs? What is the difference between loss and val_loss?"
   ]
  },
  {
   "cell_type": "code",
   "execution_count": 12,
   "metadata": {
    "id": "RzyWYnVwgXHH"
   },
   "outputs": [
    {
     "name": "stdout",
     "output_type": "stream",
     "text": [
      "Train on 54000 samples, validate on 6000 samples\n",
      "Epoch 1/30\n",
      "54000/54000 [==============================] - 18s 336us/sample - loss: 0.0589 - accuracy: 0.9816 - val_loss: 0.0375 - val_accuracy: 0.9895\n",
      "Epoch 2/30\n",
      "54000/54000 [==============================] - 17s 316us/sample - loss: 0.0550 - accuracy: 0.9831 - val_loss: 0.0351 - val_accuracy: 0.9912\n",
      "Epoch 3/30\n",
      "54000/54000 [==============================] - 19s 356us/sample - loss: 0.0545 - accuracy: 0.9826 - val_loss: 0.0365 - val_accuracy: 0.9905\n",
      "Epoch 4/30\n",
      "54000/54000 [==============================] - 17s 317us/sample - loss: 0.0522 - accuracy: 0.9839 - val_loss: 0.0371 - val_accuracy: 0.9905\n",
      "Epoch 5/30\n",
      "54000/54000 [==============================] - 23s 419us/sample - loss: 0.0487 - accuracy: 0.9840 - val_loss: 0.0397 - val_accuracy: 0.9902\n",
      "Epoch 6/30\n",
      "54000/54000 [==============================] - 20s 379us/sample - loss: 0.0448 - accuracy: 0.9858 - val_loss: 0.0362 - val_accuracy: 0.9895\n",
      "Epoch 7/30\n",
      "54000/54000 [==============================] - 20s 368us/sample - loss: 0.0499 - accuracy: 0.9844 - val_loss: 0.0375 - val_accuracy: 0.9912\n",
      "Epoch 8/30\n",
      "54000/54000 [==============================] - 21s 389us/sample - loss: 0.0455 - accuracy: 0.9858 - val_loss: 0.0375 - val_accuracy: 0.9913\n",
      "Epoch 9/30\n",
      "54000/54000 [==============================] - 21s 381us/sample - loss: 0.0429 - accuracy: 0.9864 - val_loss: 0.0393 - val_accuracy: 0.9907\n",
      "Epoch 10/30\n",
      "54000/54000 [==============================] - 18s 340us/sample - loss: 0.0416 - accuracy: 0.9871 - val_loss: 0.0372 - val_accuracy: 0.9920\n",
      "Epoch 11/30\n",
      "54000/54000 [==============================] - 19s 348us/sample - loss: 0.0431 - accuracy: 0.9865 - val_loss: 0.0358 - val_accuracy: 0.9915\n",
      "Epoch 12/30\n",
      "54000/54000 [==============================] - 18s 340us/sample - loss: 0.0408 - accuracy: 0.9868 - val_loss: 0.0388 - val_accuracy: 0.9908\n",
      "Epoch 13/30\n",
      "54000/54000 [==============================] - 19s 351us/sample - loss: 0.0391 - accuracy: 0.9878 - val_loss: 0.0373 - val_accuracy: 0.9913\n",
      "Epoch 14/30\n",
      "54000/54000 [==============================] - 19s 358us/sample - loss: 0.0389 - accuracy: 0.9881 - val_loss: 0.0376 - val_accuracy: 0.9893\n",
      "Epoch 15/30\n",
      "54000/54000 [==============================] - 19s 343us/sample - loss: 0.0378 - accuracy: 0.9884 - val_loss: 0.0327 - val_accuracy: 0.9920\n",
      "Epoch 16/30\n",
      "54000/54000 [==============================] - 19s 352us/sample - loss: 0.0391 - accuracy: 0.9877 - val_loss: 0.0357 - val_accuracy: 0.9903\n",
      "Epoch 17/30\n",
      "54000/54000 [==============================] - 19s 356us/sample - loss: 0.0359 - accuracy: 0.9886 - val_loss: 0.0377 - val_accuracy: 0.9925\n",
      "Epoch 18/30\n",
      "54000/54000 [==============================] - 19s 354us/sample - loss: 0.0376 - accuracy: 0.9883 - val_loss: 0.0321 - val_accuracy: 0.9942\n",
      "Epoch 19/30\n",
      "54000/54000 [==============================] - 20s 364us/sample - loss: 0.0359 - accuracy: 0.9887 - val_loss: 0.0406 - val_accuracy: 0.9912\n",
      "Epoch 20/30\n",
      "54000/54000 [==============================] - 19s 351us/sample - loss: 0.0342 - accuracy: 0.9893 - val_loss: 0.0391 - val_accuracy: 0.9922\n",
      "Epoch 21/30\n",
      "54000/54000 [==============================] - 19s 350us/sample - loss: 0.0366 - accuracy: 0.9890 - val_loss: 0.0389 - val_accuracy: 0.9903\n",
      "Epoch 22/30\n",
      "54000/54000 [==============================] - 18s 342us/sample - loss: 0.0346 - accuracy: 0.9896 - val_loss: 0.0380 - val_accuracy: 0.9920\n",
      "Epoch 23/30\n",
      "54000/54000 [==============================] - 19s 355us/sample - loss: 0.0350 - accuracy: 0.9890 - val_loss: 0.0359 - val_accuracy: 0.9915\n",
      "Epoch 24/30\n",
      "54000/54000 [==============================] - 20s 363us/sample - loss: 0.0377 - accuracy: 0.9886 - val_loss: 0.0386 - val_accuracy: 0.9927\n",
      "Epoch 25/30\n",
      "54000/54000 [==============================] - 22s 399us/sample - loss: 0.0379 - accuracy: 0.9887 - val_loss: 0.0368 - val_accuracy: 0.9920\n",
      "Epoch 26/30\n",
      "54000/54000 [==============================] - 21s 398us/sample - loss: 0.0316 - accuracy: 0.9905 - val_loss: 0.0393 - val_accuracy: 0.9925\n",
      "Epoch 27/30\n",
      "54000/54000 [==============================] - 22s 398us/sample - loss: 0.0368 - accuracy: 0.9892 - val_loss: 0.0349 - val_accuracy: 0.9925\n",
      "Epoch 28/30\n",
      "54000/54000 [==============================] - 18s 339us/sample - loss: 0.0315 - accuracy: 0.9906 - val_loss: 0.0454 - val_accuracy: 0.9910\n",
      "Epoch 29/30\n",
      "54000/54000 [==============================] - 18s 338us/sample - loss: 0.0334 - accuracy: 0.9896 - val_loss: 0.0407 - val_accuracy: 0.9922\n",
      "Epoch 30/30\n",
      "54000/54000 [==============================] - 22s 401us/sample - loss: 0.0359 - accuracy: 0.9892 - val_loss: 0.0417 - val_accuracy: 0.9923\n"
     ]
    }
   ],
   "source": [
    "batch_size = 128\n",
    "epochs = 30\n",
    "\n",
    "model.compile(loss=\"categorical_crossentropy\", optimizer=\"adam\", metrics=[\"accuracy\"])\n",
    "\n",
    "results = model.fit(x_train, y_train, batch_size=batch_size, epochs=epochs, validation_split=0.1)"
   ]
  },
  {
   "cell_type": "markdown",
   "metadata": {},
   "source": [
    "<a class=\"anchor\" id=\"3.2\"></a>\n",
    "#### 3.2 Plotting the training and validation history\n",
    "**Question 3.2** Plot the evolution of accuracy and validation accuaracy of the model with respect to the epoch. What do you see?\n",
    "\n",
    "**Question 3.3** Change the Epoch to 30, what do you think is a good value for number of epochs in the training data?"
   ]
  },
  {
   "cell_type": "code",
   "execution_count": 13,
   "metadata": {},
   "outputs": [
    {
     "data": {
      "image/png": "[encoded data removed]",
      "text/plain": [
       "<Figure size 432x288 with 1 Axes>"
      ]
     },
     "metadata": {
      "needs_background": "light"
     },
     "output_type": "display_data"
    }
   ],
   "source": [
    "plt.plot(results.history['accuracy'])\n",
    "plt.plot(results.history['val_accuracy'])\n",
    "plt.title('model accuracy')\n",
    "plt.ylabel('accuracy')\n",
    "plt.xlabel('epoch')\n",
    "plt.legend(['train', 'val'], loc='upper left')\n",
    "plt.show()"
   ]
  },
  {
   "cell_type": "markdown",
   "metadata": {
    "id": "VA1I0SrjgXHH"
   },
   "source": [
    "<a class=\"anchor\" id=\"4.0\"></a>\n",
    "### 4 Evaluate the trained model\n",
    "The model performance is evaluated with independent testing set.\n"
   ]
  },
  {
   "cell_type": "code",
   "execution_count": 9,
   "metadata": {
    "id": "wS55t4IBgXHH"
   },
   "outputs": [
    {
     "name": "stdout",
     "output_type": "stream",
     "text": [
      "Test loss: 0.036907018230507675\n",
      "Test accuracy: 0.9876\n"
     ]
    }
   ],
   "source": [
    "score = model.evaluate(x_test, y_test, verbose=0)\n",
    "print(\"Test loss:\", score[0])\n",
    "print(\"Test accuracy:\", score[1])"
   ]
  },
  {
   "cell_type": "markdown",
   "metadata": {},
   "source": [
    "<a class=\"anchor\" id=\"5.0\"></a>\n",
    "### 5. Export and load model\n",
    "After training the model, it is important to save the trained model and use it next time. The export and saving model saves time to retain a model and compare different model performance. The following \n",
    "demonstrate the saving and loading of the trainined Neural Network."
   ]
  },
  {
   "cell_type": "code",
   "execution_count": 10,
   "metadata": {},
   "outputs": [],
   "source": [
    "path_to_model =\"model/MNIST_CNN_2Layer.keras\"\n",
    "model.save(path_to_model)\n",
    "model2 = keras.models.load_model(path_to_model)"
   ]
  },
  {
   "cell_type": "markdown",
   "metadata": {},
   "source": [
    "<a class=\"anchor\" id=\"6.0\"></a>\n",
    "### 6. Play with your hand writting\n",
    "We have develop a platform using *python* to write and predict your own hand writing. Try the code behind to test your hand writing with the trainined Neural NetworK model.\n",
    "Rerun the code for each entry."
   ]
  },
  {
   "cell_type": "code",
   "execution_count": 11,
   "metadata": {},
   "outputs": [],
   "source": [
    "my_num = DrawMyOwnNumbers(model)"
   ]
  },
  {
   "cell_type": "markdown",
   "metadata": {},
   "source": [
    "### Online resources"
   ]
  },
  {
   "cell_type": "markdown",
   "metadata": {},
   "source": [
    "https://whitead.github.io/dmol-book/applied/QM9.html"
   ]
  },
  {
   "cell_type": "markdown",
   "metadata": {},
   "source": [
    "### Reference\n",
    "\n",
    "**CNN tutorial reference from:** [fchollet](https://twitter.com/fchollet)<br>\n",
    "**DrawMyOwnNumber Package** : https://github.com/scrambledpie/Drawing-Mnist-and-Cifarizing-image-files"
   ]
  },
  {
   "cell_type": "code",
   "execution_count": null,
   "metadata": {},
   "outputs": [],
   "source": []
  }
 ],
 "metadata": {
  "colab": {
   "collapsed_sections": [],
   "name": "mnist_convnet",
   "provenance": [],
   "toc_visible": true
  },
  "kernelspec": {
   "display_name": "Python 3 (ipykernel)",
   "language": "python",
   "name": "python3"
  },
  "language_info": {
   "codemirror_mode": {
    "name": "ipython",
    "version": 3
   },
   "file_extension": ".py",
   "mimetype": "text/x-python",
   "name": "python",
   "nbconvert_exporter": "python",
   "pygments_lexer": "ipython3",
   "version": "3.7.7"
  }
 },
 "nbformat": 4,
 "nbformat_minor": 4
}
