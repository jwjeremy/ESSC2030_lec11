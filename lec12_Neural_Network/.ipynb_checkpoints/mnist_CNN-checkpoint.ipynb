{
 "cells": [
  {
   "cell_type": "markdown",
   "metadata": {
    "id": "5_P8TTQOgXG5"
   },
   "source": [
    "# Lecture 12 Convolutional Neural Network Tutoiral\n",
    "\n",
    "## Simple MNIST CNN Model\n",
    "\n",
    "**Modified from:** [fchollet](https://twitter.com/fchollet)<br>\n",
    "**Last modified:** 2021/12/01<br>\n",
    "**Description:** A simple convolutional Neural network that achieves ~99% test accuracy on MNIST.\n",
    "\n",
    "---\n",
    "### Workflow of the tutorial\n",
    "\n",
    "In the tutorial, we will construct a simple convolution neural network with multiple layers. And the model will be trained with `MNIST` containing binary images of handwritten digits. The model aims to recongize the digit from the images. \n",
    "\n",
    "* [0 - Load packages](#0.1)\n",
    "* [1 - Preprocessing training data](#1.0)\n",
    "    * [1.1 Download training set and testing set of MNIST data from Keras API](#1.1)\n",
    "    * [1.2 Normalize and preprocess data](#1.2)\n",
    "    * [1.3 Visualizing MNIST data](#1.3)\n",
    "* [2 - Construct Convolutional Neural Network](#2.0)\n",
    "    * [2.1 Use Keras.Sequential to build the model](#2.1)\n",
    "    * [2.2 Visualizing the model](#2.1)\n",
    "* [3 Train CNN model with the MNIST data](#3.0)\n",
    "    * [3.1 Train the model with testing set](#3.1)\n",
    "    * [3.2 Visualizing trainning history](#3.2)\n",
    "* [4 Evaluate model](#4.0)\n",
    "    * [4.1 Compare the validating history and training history](#4.1)\n",
    "* [5 Deployment of the model](#5.0)\n",
    "    * [5.1 Export and load the model](#5.1)\n",
    "* [6 Test model with your handwriting](#6.0)\n",
    "    \n",
    "---\n",
    "### <font color=\"#208eb7\"> Tutorial assignment </font>\n",
    "\n",
    "- Questions are included in the tutorial sections. Please answer the questions with respect to the question numbers.\n",
    "- Please submit a **final report** summarizing the method used and corresponding results.\n",
    "    - Graphyics and illustations are encouraged in the report\n",
    "\n",
    "---"
   ]
  },
  {
   "cell_type": "markdown",
   "metadata": {
    "id": "qsgmOkQSgXHC"
   },
   "source": [
    "## Start of the tutorial\n",
    "---\n",
    "<a class=\"anchor\" id=\"0.1\"></a>\n",
    "### 0 - Load Packages\n",
    "\n",
    "In the tutorial, `KERAS` is package is used and it is a deep learning API written in Python, running on top of the machine learning platform TensorFlow. API refers to `Application Programming Interface`.\n",
    "\n",
    "`KERAS` provides organized sample data for different machine learning application. For example, in the following tutorial we will use MNIST dataset dedicated for Convolutional Neural Network application. \n",
    "\n",
    "It also provides pre-constructed layers of machine learning algorithms, thus the developers can select essential abstractions and building blocks for developing and shipping machine learning solutions with ease.\n",
    "\n",
    "---\n",
    "**Notice** A list of compatibility warnings maybe shown during import. These warning can be ignored."
   ]
  },
  {
   "cell_type": "code",
   "execution_count": 43,
   "metadata": {
    "id": "bldpQ8BDgXHE"
   },
   "outputs": [],
   "source": [
    "import numpy as np\n",
    "import matplotlib.pyplot as plt\n",
    "from tensorflow import keras\n",
    "from tensorflow.keras import layers\n",
    "\n",
    "from MNIST_ultities import DrawMyOwnNumbers"
   ]
  },
  {
   "cell_type": "markdown",
   "metadata": {
    "id": "R9Bt2ay6gXHF"
   },
   "source": [
    "<a class=\"anchor\" id=\"1.0\"></a>\n",
    "### 1 - Prepare training data\n",
    "\n",
    "MNIST dataset is a collections of handwritten digital numbers (i.e. 0-9) with 28*28 pixels.\n",
    "\n",
    "The following obtain the dataset from keras database via `keras.datasets.mnist`\n",
    "\n",
    "Please try the code below to see the docstrings of the dataset:\n",
    "\n",
    "    keras.datasets.mnist?\n",
    "    keras.datasets.mnist.load_data?"
   ]
  },
  {
   "cell_type": "code",
   "execution_count": 2,
   "metadata": {},
   "outputs": [
    {
     "data": {
      "text/plain": [
       "\u001b[0;31mSignature:\u001b[0m \u001b[0mkeras\u001b[0m\u001b[0;34m.\u001b[0m\u001b[0mdatasets\u001b[0m\u001b[0;34m.\u001b[0m\u001b[0mmnist\u001b[0m\u001b[0;34m.\u001b[0m\u001b[0mload_data\u001b[0m\u001b[0;34m(\u001b[0m\u001b[0mpath\u001b[0m\u001b[0;34m=\u001b[0m\u001b[0;34m'mnist.npz'\u001b[0m\u001b[0;34m)\u001b[0m\u001b[0;34m\u001b[0m\u001b[0;34m\u001b[0m\u001b[0m\n",
       "\u001b[0;31mDocstring:\u001b[0m\n",
       "Loads the MNIST dataset.\n",
       "\n",
       "Arguments:\n",
       "    path: path where to cache the dataset locally\n",
       "        (relative to ~/.keras/datasets).\n",
       "\n",
       "Returns:\n",
       "    Tuple of Numpy arrays: `(x_train, y_train), (x_test, y_test)`.\n",
       "\n",
       "License:\n",
       "    Yann LeCun and Corinna Cortes hold the copyright of MNIST dataset,\n",
       "    which is a derivative work from original NIST datasets.\n",
       "    MNIST dataset is made available under the terms of the\n",
       "    [Creative Commons Attribution-Share Alike 3.0 license.](\n",
       "    https://creativecommons.org/licenses/by-sa/3.0/)\n",
       "\u001b[0;31mFile:\u001b[0m      ~/miniconda3/envs/ESSC2030_geo/lib/python3.7/site-packages/tensorflow_core/python/keras/datasets/mnist.py\n",
       "\u001b[0;31mType:\u001b[0m      function\n"
      ]
     },
     "metadata": {},
     "output_type": "display_data"
    }
   ],
   "source": [
    "keras.datasets.mnist.load_data?"
   ]
  },
  {
   "cell_type": "markdown",
   "metadata": {},
   "source": [
    "<a class=\"anchor\" id=\"1.1\"></a>\n",
    "#### 1.1 Download training set and testing set of MNIST data from Keras API\n",
    "\n",
    "<a class=\"anchor\" id=\"1.2\"></a>\n",
    "#### 1.2 Normalize and preprocess data\n",
    "- Normalize data (Scale amplitude of the data to [0, 1] range)\n",
    "- Create Suitable data shape and format (28, 28, 1)\n",
    "- Convert 0,1,2,...,9 classes to binary class matrix\n",
    "\n",
    "**Question 1.1** How many handwritten digital numbers in training set and testing set respectively in downloaded data?\n",
    "\n",
    "**Question 1.2** What is the shape of the training data?\n",
    "\n",
    "**Question 1.3** \n",
    "- What is the format of the label (y) before and after the binary class transformation? \n",
    "- What is the label of a '9' digit drawing after the transformation? \n",
    "- Why do we do so?"
   ]
  },
  {
   "cell_type": "code",
   "execution_count": 3,
   "metadata": {
    "id": "xKJ4vvh_gXHF"
   },
   "outputs": [],
   "source": [
    "### 1.1 Download MNIST data\n",
    "# Model / data parameters\n",
    "num_classes = 10\n",
    "input_shape = (28, 28, 1)\n",
    "\n",
    "# the data, split between train and test sets\n",
    "(x_train_mnist, y_train_mnist), (x_test_mnist, y_test_mnist) = keras.datasets.mnist.load_data()\n",
    "\n",
    "### 1.2 Nomalize and preprocess data\n",
    "# Scale images to the [0, 1] range\n",
    "x_train = x_train_mnist.astype(\"float32\") / 255\n",
    "x_test = x_test_mnist.astype(\"float32\") / 255\n",
    "# Make sure images have shape (28, 28, 1)\n",
    "x_train = np.expand_dims(x_train_mnist, -1)\n",
    "x_test = np.expand_dims(x_test_mnist, -1)\n",
    "#print(\"x_train shape:\", x_train.shape)\n",
    "#print(x_train.shape[0], \"train samples\")\n",
    "#print(x_test.shape[0], \"test samples\")\n",
    "\n",
    "\n",
    "# convert class vectors to binary class matrices\n",
    "y_train = keras.utils.to_categorical(y_train_mnist, num_classes)\n",
    "y_test = keras.utils.to_categorical(y_test_mnist, num_classes)"
   ]
  },
  {
   "cell_type": "markdown",
   "metadata": {},
   "source": [
    "<a class=\"anchor\" id=\"1.3\"></a>\n",
    "#### 1.3 Visualizing MNIST data\n",
    "\n",
    "The following will plot the data using Matplotlib.pyplot with single plot and multiple subplots.\n",
    "\n",
    "**Questuon 1.4** Plot 0-9 handwritten digits (in total 10) from MNIST data accordingly."
   ]
  },
  {
   "cell_type": "code",
   "execution_count": 4,
   "metadata": {},
   "outputs": [
    {
     "data": {
      "image/png": "[encoded data removed]",
      "text/plain": [
       "<Figure size 432x288 with 1 Axes>"
      ]
     },
     "metadata": {
      "needs_background": "light"
     },
     "output_type": "display_data"
    },
    {
     "data": {
      "image/png": "[encoded data removed]",
      "text/plain": [
       "<Figure size 540x288 with 10 Axes>"
      ]
     },
     "metadata": {
      "needs_background": "light"
     },
     "output_type": "display_data"
    }
   ],
   "source": [
    "import matplotlib.pyplot as plt\n",
    "%matplotlib inline\n",
    "\n",
    "### pick a sample to plot\n",
    "sample = 1\n",
    "image = x_train_mnist[sample]\n",
    "label = y_train_mnist[sample]\n",
    "# plot the sample\n",
    "fig = plt.figure\n",
    "plt.imshow(image, cmap='gray')\n",
    "plt.title('Label: {}'.format(label))\n",
    "plt.show()\n",
    "\n",
    "### Multiple plot\n",
    "num = 10\n",
    "images = x_train_mnist[:num]\n",
    "labels = y_train_mnist[:num]\n",
    "\n",
    "num_row = 2\n",
    "num_col = 5\n",
    "# plot images\n",
    "fig, axes = plt.subplots(num_row, num_col, figsize=(1.5*num_col,2*num_row))\n",
    "for i in range(num):\n",
    "    ax = axes[i//num_col, i%num_col]\n",
    "    ax.imshow(images[i], cmap='gray_r')\n",
    "    ax.set_title('Label: {}'.format(labels[i]))\n",
    "plt.tight_layout()\n",
    "plt.show()"
   ]
  },
  {
   "cell_type": "markdown",
   "metadata": {
    "id": "gsHgH7A2gXHG"
   },
   "source": [
    "<a class=\"anchor\" id=\"2.0\"></a>\n",
    "### 2 - Construct Convolutional Neural Network\n",
    "<a class=\"anchor\" id=\"2.1\"></a>\n",
    "#### 2.1 Use Keras.Sequential to build the model\n",
    "- Using ` keras.Sequential( [ Layers ] )`\n",
    "\n",
    "**Questions 2.1** How many layers of convolution in the model below?\n",
    "\n",
    "**Questions 2.2** What is the input shape of the model and the output shape of the model?"
   ]
  },
  {
   "cell_type": "code",
   "execution_count": 5,
   "metadata": {
    "id": "dxC6sX0ogXHG"
   },
   "outputs": [
    {
     "name": "stdout",
     "output_type": "stream",
     "text": [
      "Model: \"sequential\"\n",
      "_________________________________________________________________\n",
      "Layer (type)                 Output Shape              Param #   \n",
      "=================================================================\n",
      "conv2d (Conv2D)              (None, 26, 26, 32)        320       \n",
      "_________________________________________________________________\n",
      "max_pooling2d (MaxPooling2D) (None, 13, 13, 32)        0         \n",
      "_________________________________________________________________\n",
      "conv2d_1 (Conv2D)            (None, 11, 11, 64)        18496     \n",
      "_________________________________________________________________\n",
      "max_pooling2d_1 (MaxPooling2 (None, 5, 5, 64)          0         \n",
      "_________________________________________________________________\n",
      "flatten (Flatten)            (None, 1600)              0         \n",
      "_________________________________________________________________\n",
      "dropout (Dropout)            (None, 1600)              0         \n",
      "_________________________________________________________________\n",
      "dense (Dense)                (None, 10)                16010     \n",
      "=================================================================\n",
      "Total params: 34,826\n",
      "Trainable params: 34,826\n",
      "Non-trainable params: 0\n",
      "_________________________________________________________________\n"
     ]
    },
    {
     "name": "stderr",
     "output_type": "stream",
     "text": [
      "2021-12-14 22:44:35.069507: I tensorflow/core/platform/cpu_feature_guard.cc:145] This TensorFlow binary is optimized with Intel(R) MKL-DNN to use the following CPU instructions in performance critical operations:  SSE4.1 SSE4.2 AVX AVX2 AVX512F FMA\n",
      "To enable them in non-MKL-DNN operations, rebuild TensorFlow with the appropriate compiler flags.\n",
      "2021-12-14 22:44:35.069755: I tensorflow/core/common_runtime/process_util.cc:115] Creating new thread pool with default inter op setting: 8. Tune using inter_op_parallelism_threads for best performance.\n"
     ]
    }
   ],
   "source": [
    "model = keras.Sequential(\n",
    "    [\n",
    "        layers.InputLayer(input_shape),\n",
    "        layers.Conv2D(32, kernel_size=(3, 3), activation=\"relu\"),\n",
    "        layers.MaxPooling2D(pool_size=(2, 2)),\n",
    "        layers.Conv2D(64, kernel_size=(3, 3), activation=\"relu\"),\n",
    "        layers.MaxPooling2D(pool_size=(2, 2)),\n",
    "        layers.Flatten(),\n",
    "        layers.Dropout(0.5),\n",
    "        layers.Dense(num_classes, activation=\"softmax\"),\n",
    "    ]\n",
    ")\n",
    "\n",
    "model.summary()"
   ]
  },
  {
   "cell_type": "markdown",
   "metadata": {},
   "source": [
    "<a class=\"anchor\" id=\"2.2\"></a>\n",
    "#### 2.2 Visualizing the model\n",
    "\n",
    "<img src=\"img/MNIST_CNN.png\" width=\"400\">\n",
    "**Notice** Install `pydot` package via `pip install pydot` if required\n",
    "\n",
    "**Questions 2.3** Plot the model using the `keras.utils.plot_model`"
   ]
  },
  {
   "cell_type": "code",
   "execution_count": 6,
   "metadata": {},
   "outputs": [
    {
     "data": {
      "image/png": "[encoded data removed]",
      "text/plain": [
       "<IPython.core.display.Image object>"
      ]
     },
     "execution_count": 6,
     "metadata": {},
     "output_type": "execute_result"
    }
   ],
   "source": [
    "from tensorflow.keras.utils import plot_model\n",
    "plot_model(model, \n",
    "       show_shapes=True,\n",
    "       show_layer_names=True,\n",
    "       rankdir=\"LR\" # TB - vertical plot; LR - horizontal plot\n",
    "    )"
   ]
  },
  {
   "cell_type": "markdown",
   "metadata": {
    "id": "6pLiwwGjgXHG"
   },
   "source": [
    "<a class=\"anchor\" id=\"3.0\"></a>\n",
    "### 3. Train the model\n",
    "<a class=\"anchor\" id=\"3.1\"></a>\n",
    "#### 3.1\n",
    "In the following, we will train the model with the dataset prepared (training set). \n",
    "\n",
    "    Batch   - Number of samples processed before the model is updated\n",
    "            (Number of samples per gradient update)\n",
    "    epochs - Number of complete passes through the training dataset\n",
    "    validation_split - Fraction of the training data to be used as validation data\n",
    "    \n",
    "**Question 3.1** Use batch_size = 128 and epochs = 15 to train the model. What is batch_size and epochs? What is the difference between loss and val_loss?"
   ]
  },
  {
   "cell_type": "code",
   "execution_count": 7,
   "metadata": {
    "id": "RzyWYnVwgXHH"
   },
   "outputs": [
    {
     "name": "stdout",
     "output_type": "stream",
     "text": [
      "Train on 54000 samples, validate on 6000 samples\n",
      "Epoch 1/15\n",
      "54000/54000 [==============================] - 16s 296us/sample - loss: 1.2057 - accuracy: 0.8412 - val_loss: 0.0872 - val_accuracy: 0.9752\n",
      "Epoch 2/15\n",
      "54000/54000 [==============================] - 15s 286us/sample - loss: 0.1813 - accuracy: 0.9448 - val_loss: 0.0613 - val_accuracy: 0.9803\n",
      "Epoch 3/15\n",
      "54000/54000 [==============================] - 15s 284us/sample - loss: 0.1371 - accuracy: 0.9579 - val_loss: 0.0456 - val_accuracy: 0.9860\n",
      "Epoch 4/15\n",
      "54000/54000 [==============================] - 15s 284us/sample - loss: 0.1185 - accuracy: 0.9641 - val_loss: 0.0455 - val_accuracy: 0.9858\n",
      "Epoch 5/15\n",
      "54000/54000 [==============================] - 15s 279us/sample - loss: 0.1036 - accuracy: 0.9680 - val_loss: 0.0408 - val_accuracy: 0.9882\n",
      "Epoch 6/15\n",
      "54000/54000 [==============================] - 15s 281us/sample - loss: 0.0918 - accuracy: 0.9719 - val_loss: 0.0435 - val_accuracy: 0.9877\n",
      "Epoch 7/15\n",
      "54000/54000 [==============================] - 16s 287us/sample - loss: 0.0874 - accuracy: 0.9731 - val_loss: 0.0370 - val_accuracy: 0.9888\n",
      "Epoch 8/15\n",
      "54000/54000 [==============================] - 16s 294us/sample - loss: 0.0835 - accuracy: 0.9739 - val_loss: 0.0380 - val_accuracy: 0.9892\n",
      "Epoch 9/15\n",
      "54000/54000 [==============================] - 15s 277us/sample - loss: 0.0751 - accuracy: 0.9766 - val_loss: 0.0410 - val_accuracy: 0.9875\n",
      "Epoch 10/15\n",
      "54000/54000 [==============================] - 15s 287us/sample - loss: 0.0705 - accuracy: 0.9786 - val_loss: 0.0352 - val_accuracy: 0.9897\n",
      "Epoch 11/15\n",
      "54000/54000 [==============================] - 15s 278us/sample - loss: 0.0627 - accuracy: 0.9805 - val_loss: 0.0378 - val_accuracy: 0.9908\n",
      "Epoch 12/15\n",
      "54000/54000 [==============================] - 15s 285us/sample - loss: 0.0665 - accuracy: 0.9803 - val_loss: 0.0379 - val_accuracy: 0.9910\n",
      "Epoch 13/15\n",
      "54000/54000 [==============================] - 15s 277us/sample - loss: 0.0631 - accuracy: 0.9803 - val_loss: 0.0374 - val_accuracy: 0.9902\n",
      "Epoch 14/15\n",
      "54000/54000 [==============================] - 15s 284us/sample - loss: 0.0605 - accuracy: 0.9809 - val_loss: 0.0390 - val_accuracy: 0.9903\n",
      "Epoch 15/15\n",
      "54000/54000 [==============================] - 15s 278us/sample - loss: 0.0604 - accuracy: 0.9810 - val_loss: 0.0379 - val_accuracy: 0.9900\n"
     ]
    }
   ],
   "source": [
    "batch_size = 128\n",
    "epochs = 15\n",
    "\n",
    "model.compile(loss=\"categorical_crossentropy\", optimizer=\"adam\", metrics=[\"accuracy\"])\n",
    "\n",
    "results = model.fit(x_train, y_train, batch_size=batch_size, epochs=epochs, validation_split=0.1)"
   ]
  },
  {
   "cell_type": "markdown",
   "metadata": {},
   "source": [
    "<a class=\"anchor\" id=\"3.2\"></a>\n",
    "#### 3.2 Plotting the training and validation history\n",
    "**Question 3.2** Plot the evolution of accuracy and validation accuaracy of the model with respect to the epoch. What do you see?\n",
    "\n",
    "**Question 3.3** Change the Epoch to 30, what do you think is a good value for number of epochs in the training data?"
   ]
  },
  {
   "cell_type": "code",
   "execution_count": 15,
   "metadata": {},
   "outputs": [
    {
     "data": {
      "image/png": "[encoded data removed]",
      "text/plain": [
       "<Figure size 432x288 with 1 Axes>"
      ]
     },
     "metadata": {
      "needs_background": "light"
     },
     "output_type": "display_data"
    }
   ],
   "source": [
    "plt.plot(results.history['accuracy'])\n",
    "plt.plot(results.history['val_accuracy'])\n",
    "plt.title('model accuracy')\n",
    "plt.ylabel('accuracy')\n",
    "plt.xlabel('epoch')\n",
    "plt.legend(['train', 'val'], loc='upper left')\n",
    "plt.show()"
   ]
  },
  {
   "cell_type": "markdown",
   "metadata": {
    "id": "VA1I0SrjgXHH"
   },
   "source": [
    "<a class=\"anchor\" id=\"4.0\"></a>\n",
    "### 4 Evaluate the trained model\n",
    "The model performance is evaluated with independent testing set.\n"
   ]
  },
  {
   "cell_type": "code",
   "execution_count": 16,
   "metadata": {
    "id": "wS55t4IBgXHH"
   },
   "outputs": [
    {
     "name": "stdout",
     "output_type": "stream",
     "text": [
      "Test loss: 0.03482464058153564\n",
      "Test accuracy: 0.9893\n"
     ]
    }
   ],
   "source": [
    "score = model.evaluate(x_test, y_test, verbose=0)\n",
    "print(\"Test loss:\", score[0])\n",
    "print(\"Test accuracy:\", score[1])"
   ]
  },
  {
   "cell_type": "markdown",
   "metadata": {},
   "source": [
    "<a class=\"anchor\" id=\"5.0\"></a>\n",
    "### 5. Export and load model\n",
    "After training the model, it is important to save the trained model and use it next time. The export and saving model saves time to retain a model and compare different model performance. The following \n",
    "demonstrate the saving and loading of the trainined Neural Network."
   ]
  },
  {
   "cell_type": "code",
   "execution_count": 46,
   "metadata": {},
   "outputs": [
    {
     "ename": "AttributeError",
     "evalue": "'str' object has no attribute 'decode'",
     "output_type": "error",
     "traceback": [
      "\u001b[0;31m---------------------------------------------------------------------------\u001b[0m",
      "\u001b[0;31mAttributeError\u001b[0m                            Traceback (most recent call last)",
      "\u001b[0;32m/var/folders/_q/_k268hss0_v31y_7pns110fr000l3c/T/ipykernel_79282/727312684.py\u001b[0m in \u001b[0;36m<module>\u001b[0;34m\u001b[0m\n\u001b[1;32m      1\u001b[0m \u001b[0mpath_to_model\u001b[0m \u001b[0;34m=\u001b[0m\u001b[0;34m\"model/MNIST_CNN_2Layer.keras\"\u001b[0m\u001b[0;34m\u001b[0m\u001b[0;34m\u001b[0m\u001b[0m\n\u001b[1;32m      2\u001b[0m \u001b[0mmodel\u001b[0m\u001b[0;34m.\u001b[0m\u001b[0msave\u001b[0m\u001b[0;34m(\u001b[0m\u001b[0mpath_to_model\u001b[0m\u001b[0;34m)\u001b[0m\u001b[0;34m\u001b[0m\u001b[0;34m\u001b[0m\u001b[0m\n\u001b[0;32m----> 3\u001b[0;31m \u001b[0mmodel2\u001b[0m \u001b[0;34m=\u001b[0m \u001b[0mkeras\u001b[0m\u001b[0;34m.\u001b[0m\u001b[0mmodels\u001b[0m\u001b[0;34m.\u001b[0m\u001b[0mload_model\u001b[0m\u001b[0;34m(\u001b[0m\u001b[0mpath_to_model\u001b[0m\u001b[0;34m)\u001b[0m\u001b[0;34m\u001b[0m\u001b[0;34m\u001b[0m\u001b[0m\n\u001b[0m",
      "\u001b[0;32m~/miniconda3/envs/ESSC2030_geo/lib/python3.7/site-packages/tensorflow_core/python/keras/saving/save.py\u001b[0m in \u001b[0;36mload_model\u001b[0;34m(filepath, custom_objects, compile)\u001b[0m\n\u001b[1;32m    144\u001b[0m   if (h5py is not None and (\n\u001b[1;32m    145\u001b[0m       isinstance(filepath, h5py.File) or h5py.is_hdf5(filepath))):\n\u001b[0;32m--> 146\u001b[0;31m     \u001b[0;32mreturn\u001b[0m \u001b[0mhdf5_format\u001b[0m\u001b[0;34m.\u001b[0m\u001b[0mload_model_from_hdf5\u001b[0m\u001b[0;34m(\u001b[0m\u001b[0mfilepath\u001b[0m\u001b[0;34m,\u001b[0m \u001b[0mcustom_objects\u001b[0m\u001b[0;34m,\u001b[0m \u001b[0mcompile\u001b[0m\u001b[0;34m)\u001b[0m\u001b[0;34m\u001b[0m\u001b[0;34m\u001b[0m\u001b[0m\n\u001b[0m\u001b[1;32m    147\u001b[0m \u001b[0;34m\u001b[0m\u001b[0m\n\u001b[1;32m    148\u001b[0m   \u001b[0;32mif\u001b[0m \u001b[0misinstance\u001b[0m\u001b[0;34m(\u001b[0m\u001b[0mfilepath\u001b[0m\u001b[0;34m,\u001b[0m \u001b[0msix\u001b[0m\u001b[0;34m.\u001b[0m\u001b[0mstring_types\u001b[0m\u001b[0;34m)\u001b[0m\u001b[0;34m:\u001b[0m\u001b[0;34m\u001b[0m\u001b[0;34m\u001b[0m\u001b[0m\n",
      "\u001b[0;32m~/miniconda3/envs/ESSC2030_geo/lib/python3.7/site-packages/tensorflow_core/python/keras/saving/hdf5_format.py\u001b[0m in \u001b[0;36mload_model_from_hdf5\u001b[0;34m(filepath, custom_objects, compile)\u001b[0m\n\u001b[1;32m    164\u001b[0m     \u001b[0;32mif\u001b[0m \u001b[0mmodel_config\u001b[0m \u001b[0;32mis\u001b[0m \u001b[0;32mNone\u001b[0m\u001b[0;34m:\u001b[0m\u001b[0;34m\u001b[0m\u001b[0;34m\u001b[0m\u001b[0m\n\u001b[1;32m    165\u001b[0m       \u001b[0;32mraise\u001b[0m \u001b[0mValueError\u001b[0m\u001b[0;34m(\u001b[0m\u001b[0;34m'No model found in config file.'\u001b[0m\u001b[0;34m)\u001b[0m\u001b[0;34m\u001b[0m\u001b[0;34m\u001b[0m\u001b[0m\n\u001b[0;32m--> 166\u001b[0;31m     \u001b[0mmodel_config\u001b[0m \u001b[0;34m=\u001b[0m \u001b[0mjson\u001b[0m\u001b[0;34m.\u001b[0m\u001b[0mloads\u001b[0m\u001b[0;34m(\u001b[0m\u001b[0mmodel_config\u001b[0m\u001b[0;34m.\u001b[0m\u001b[0mdecode\u001b[0m\u001b[0;34m(\u001b[0m\u001b[0;34m'utf-8'\u001b[0m\u001b[0;34m)\u001b[0m\u001b[0;34m)\u001b[0m\u001b[0;34m\u001b[0m\u001b[0;34m\u001b[0m\u001b[0m\n\u001b[0m\u001b[1;32m    167\u001b[0m     model = model_config_lib.model_from_config(model_config,\n\u001b[1;32m    168\u001b[0m                                                custom_objects=custom_objects)\n",
      "\u001b[0;31mAttributeError\u001b[0m: 'str' object has no attribute 'decode'"
     ]
    }
   ],
   "source": [
    "path_to_model =\"model/MNIST_CNN_2Layer.keras\"\n",
    "model.save(path_to_model)\n",
    "model2 = keras.models.load_model(path_to_model)"
   ]
  },
  {
   "cell_type": "markdown",
   "metadata": {},
   "source": [
    "<a class=\"anchor\" id=\"6.0\"></a>\n",
    "### 6. Play with your hand writting\n",
    "We have develop a platform using *python* to write and predict your own hand writing. Try the code behind to test your hand writing with the trainined Neural NetworK model.\n",
    "Rerun the code for each entry."
   ]
  },
  {
   "cell_type": "code",
   "execution_count": 45,
   "metadata": {},
   "outputs": [
    {
     "data": {
      "image/png": "[encoded data removed]",
      "text/plain": [
       "<Figure size 1080x360 with 3 Axes>"
      ]
     },
     "metadata": {
      "needs_background": "light"
     },
     "output_type": "display_data"
    }
   ],
   "source": [
    "my_num = DrawMyOwnNumbers(model)"
   ]
  },
  {
   "cell_type": "markdown",
   "metadata": {},
   "source": [
    "### Online resources"
   ]
  },
  {
   "cell_type": "markdown",
   "metadata": {},
   "source": [
    "https://whitead.github.io/dmol-book/applied/QM9.html"
   ]
  },
  {
   "cell_type": "markdown",
   "metadata": {},
   "source": [
    "### Reference"
   ]
  },
  {
   "cell_type": "markdown",
   "metadata": {},
   "source": [
    "`DrawMyOwnNumber` : "
   ]
  },
  {
   "cell_type": "code",
   "execution_count": 33,
   "metadata": {},
   "outputs": [
    {
     "data": {
      "text/plain": [
       "255"
      ]
     },
     "execution_count": 33,
     "metadata": {},
     "output_type": "execute_result"
    }
   ],
   "source": []
  },
  {
   "cell_type": "code",
   "execution_count": null,
   "metadata": {},
   "outputs": [],
   "source": []
  }
 ],
 "metadata": {
  "colab": {
   "collapsed_sections": [],
   "name": "mnist_convnet",
   "provenance": [],
   "toc_visible": true
  },
  "kernelspec": {
   "display_name": "Python 3 (ipykernel)",
   "language": "python",
   "name": "python3"
  },
  "language_info": {
   "codemirror_mode": {
    "name": "ipython",
    "version": 3
   },
   "file_extension": ".py",
   "mimetype": "text/x-python",
   "name": "python",
   "nbconvert_exporter": "python",
   "pygments_lexer": "ipython3",
   "version": "3.7.7"
  }
 },
 "nbformat": 4,
 "nbformat_minor": 4
}
