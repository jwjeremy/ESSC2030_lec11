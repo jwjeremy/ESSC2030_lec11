{
 "cells": [
  {
   "cell_type": "markdown",
   "metadata": {
    "id": "5_P8TTQOgXG5"
   },
   "source": [
    "# Lecture 12 Machine Learning Tutoiral\n",
    "\n",
    "## Simple MNIST CNN Model\n",
    "\n",
    "**Modified from:** [fchollet](https://twitter.com/fchollet)<br>\n",
    "**Last modified:** 2021/01/01<br>\n",
    "**Description:** A simple convolutional Neural network that achieves ~99% test accuracy on MNIST.\n",
    "\n",
    "---\n",
    "#### Workflow of the tutorial\n",
    "\n",
    "In the tutorial, we will construct a simple convolution neural network with multiple layers. And the model is being trained with `MNIST` containing binary images of handwritten digits. We aim the model can recongize the digit from the images. \n",
    "\n",
    "\n",
    "1) Obatin Data\n",
    "\n",
    "- 28*28 Pixels of handwritten numbers 0 to 9\n",
    "- Obtain from `keras.datasets.mnsit.load_data`\n",
    "\n",
    "2) Preprocess on data\n",
    "- Normalize data (Scale amplitude of the data to [0, 1] range)\n",
    "- Create Suitable data shape and format (28, 28, 1)\n",
    "- Convert 0,1,2,...,9 classes to binary class matrix\n",
    "    - 0 : [1, 0, 0 ,0 ,0,...,0]\n",
    "    - 1 : [0, 1, 0 ,0 ,0,...,0]\n",
    "    - 2 : [0, 0, 1 ,0 ,0,...,0]\n",
    "    - 9 : ?\n",
    " \n",
    "3) Constructure CNN model\n",
    "- Using ` keras.Sequential( [ Layers ] )`\n",
    "\n",
    "4) Train the model with the data\n",
    "\n",
    "5) Evaluate the model"
   ]
  },
  {
   "cell_type": "markdown",
   "metadata": {
    "id": "qsgmOkQSgXHC"
   },
   "source": [
    "## Setup"
   ]
  },
  {
   "cell_type": "code",
   "execution_count": null,
   "metadata": {
    "id": "bldpQ8BDgXHE"
   },
   "outputs": [],
   "source": [
    "import numpy as np\n",
    "from tensorflow import keras\n",
    "from tensorflow.keras import layers"
   ]
  },
  {
   "cell_type": "markdown",
   "metadata": {
    "id": "R9Bt2ay6gXHF"
   },
   "source": [
    "## Prepare the data"
   ]
  },
  {
   "cell_type": "code",
   "execution_count": null,
   "metadata": {
    "id": "xKJ4vvh_gXHF"
   },
   "outputs": [],
   "source": [
    "# Model / data parameters\n",
    "num_classes = 10\n",
    "input_shape = (28, 28, 1)\n",
    "\n",
    "# the data, split between train and test sets\n",
    "(x_train, y_train), (x_test, y_test) = keras.datasets.mnist.load_data()\n",
    "\n",
    "# Scale images to the [0, 1] range\n",
    "x_train = x_train.astype(\"float32\") / 255\n",
    "x_test = x_test.astype(\"float32\") / 255\n",
    "# Make sure images have shape (28, 28, 1)\n",
    "x_train = np.expand_dims(x_train, -1)\n",
    "x_test = np.expand_dims(x_test, -1)\n",
    "print(\"x_train shape:\", x_train.shape)\n",
    "print(x_train.shape[0], \"train samples\")\n",
    "print(x_test.shape[0], \"test samples\")\n",
    "\n",
    "\n",
    "# convert class vectors to binary class matrices\n",
    "y_train = keras.utils.to_categorical(y_train, num_classes)\n",
    "y_test = keras.utils.to_categorical(y_test, num_classes)"
   ]
  },
  {
   "cell_type": "markdown",
   "metadata": {
    "id": "gsHgH7A2gXHG"
   },
   "source": [
    "## Build the model"
   ]
  },
  {
   "cell_type": "code",
   "execution_count": null,
   "metadata": {
    "id": "dxC6sX0ogXHG"
   },
   "outputs": [],
   "source": [
    "model = keras.Sequential(\n",
    "    [\n",
    "        keras.Input(shape=input_shape),\n",
    "        layers.Conv2D(32, kernel_size=(3, 3), activation=\"relu\"),\n",
    "        layers.MaxPooling2D(pool_size=(2, 2)),\n",
    "        layers.Conv2D(64, kernel_size=(3, 3), activation=\"relu\"),\n",
    "        layers.MaxPooling2D(pool_size=(2, 2)),\n",
    "        layers.Flatten(),\n",
    "        layers.Dropout(0.5),\n",
    "        layers.Dense(num_classes, activation=\"softmax\"),\n",
    "    ]\n",
    ")\n",
    "\n",
    "model.summary()"
   ]
  },
  {
   "cell_type": "markdown",
   "metadata": {
    "id": "6pLiwwGjgXHG"
   },
   "source": [
    "## Train the model"
   ]
  },
  {
   "cell_type": "code",
   "execution_count": null,
   "metadata": {
    "id": "RzyWYnVwgXHH"
   },
   "outputs": [],
   "source": [
    "batch_size = 128\n",
    "epochs = 15\n",
    "\n",
    "model.compile(loss=\"categorical_crossentropy\", optimizer=\"adam\", metrics=[\"accuracy\"])\n",
    "\n",
    "model.fit(x_train, y_train, batch_size=batch_size, epochs=epochs, validation_split=0.1)"
   ]
  },
  {
   "cell_type": "markdown",
   "metadata": {
    "id": "VA1I0SrjgXHH"
   },
   "source": [
    "## Evaluate the trained model"
   ]
  },
  {
   "cell_type": "code",
   "execution_count": null,
   "metadata": {
    "id": "wS55t4IBgXHH"
   },
   "outputs": [],
   "source": [
    "score = model.evaluate(x_test, y_test, verbose=0)\n",
    "print(\"Test loss:\", score[0])\n",
    "print(\"Test accuracy:\", score[1])"
   ]
  }
 ],
 "metadata": {
  "colab": {
   "collapsed_sections": [],
   "name": "mnist_convnet",
   "provenance": [],
   "toc_visible": true
  },
  "kernelspec": {
   "display_name": "Python 3",
   "language": "python",
   "name": "python3"
  },
  "language_info": {
   "codemirror_mode": {
    "name": "ipython",
    "version": 3
   },
   "file_extension": ".py",
   "mimetype": "text/x-python",
   "name": "python",
   "nbconvert_exporter": "python",
   "pygments_lexer": "ipython3",
   "version": "3.6.10"
  }
 },
 "nbformat": 4,
 "nbformat_minor": 1
}
