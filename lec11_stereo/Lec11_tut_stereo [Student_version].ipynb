{
 "cells": [
  {
   "cell_type": "markdown",
   "metadata": {
    "deletable": true,
    "editable": true
   },
   "source": [
    "# ESSC2030 - Lecture 11 Geoscience Applications\n",
    "## Tutorial 1/3 - Data Visualization: Stereonet and Rose Map\n",
    "\n",
    "#### Created on 2020/09/13\n",
    "\n",
    "Geoscientists often work with 3-dimenstional lines, planes and their relationsips in the geological structures, such as fault, fold, dyke intrusions and beddings in the subsurface. Stereonet is one the most common techniques used to illustrate these 3D geometry in a simple and neat 2D visualization. It also offers a clear anagular relationships between different shapes and geometries, thus providing structural analysis for geologist.  \n",
    "\n",
    "In addition, stereonet is also used to displace principle stress directions and fault movement in geophysics. If you could recall the beachball diagram in indicating fault motion in ESSC2010, it is also a stereographic projection of a fault movement. Detailed instruction on the use of Sterenet will be taught in ESSC3100.\n",
    "\n",
    "Here, we ultilize the package [`mplstereonet`](https://github.com/joferkington/mplstereonet/) to plot different **stereographic projections** and the **stereonets** in python. `mplstereonet` is a python2 code incoperates `matplotlib.pyplot` to plot stereonet projections. It uses `axes` object in matplotlib to create plot for planes, lines and rakes and conduct probability analysis for real earth problems. \n",
    "   1. [Introduction to Stereonet Basic and `mplstereonet`](#part1)\n",
    "       - Basic usage of matplotlib and mplstereonet\n",
    "       - Basic stereonet ploting on planar objects and corresponding pole\n",
    "   2. [Application: Lai Chi Chong Bedding Data Determination](#part2)\n",
    "       - Data handling and conversion\n",
    "       - Python Function\n",
    "       - Data analysis\n",
    "   3. [Advance Application: Fold Axis Determination](#part3) [Optional]\n",
    "   4. [Fault and Principle Stress Distribution](#part4) [Optional]\n",
    "   \n",
    "Further Reading [Optional]:\n",
    "- [Stereonets and Rose Diagrams in Python by Geology&Python](http://geologyandpython.com/structural_geology.html)\n",
    "- [mplstereonet documentation](https://mplstereonet.readthedocs.io/en/latest/index.html)\n"
   ]
  },
  {
   "cell_type": "markdown",
   "metadata": {
    "deletable": true,
    "editable": true
   },
   "source": [
    "<a id='part1'></a>\n",
    "### Part 1 Stereonet Basic\n",
    "\n",
    "Stereographic projection is a southern sphere projection that projects 3D planes and lineations (Line) on to a 2D circle. \n",
    "    \n",
    "   <img src=\"fig/Stereographic_projection.jpg\">\n",
    "   \n",
    "Therefore, any planar, linear object and their relationship can be displayed in the 2D stereonet. The following we would try a simple case considering a bedding and a fault plane projected onto the stereonet.\n",
    "\n",
    "***"
   ]
  },
  {
   "cell_type": "markdown",
   "metadata": {
    "deletable": true,
    "editable": true
   },
   "source": [
    "##### 1.1 First import the relevant packages\n",
    "Before the tutorial start, lets import the relevant packages in python.\n",
    "\n",
    "\n",
    "Please run the following cell"
   ]
  },
  {
   "cell_type": "code",
   "execution_count": null,
   "metadata": {
    "collapsed": false,
    "deletable": true,
    "editable": true
   },
   "outputs": [],
   "source": [
    "# Python2 ipynb\n",
    "# For google colab\n",
    "!pip install mplstereonet\n",
    "\n",
    "\n",
    "import numpy as np\n",
    "import mplstereonet \n",
    "import matplotlib.pyplot as plt\n",
    "\n",
    "%matplotlib inline"
   ]
  },
  {
   "cell_type": "markdown",
   "metadata": {
    "deletable": true,
    "editable": true
   },
   "source": [
    "##### 1.2 Create variable for dip and strike for the planer structure\n",
    "\n",
    "In geoscience, we have a naming convection for the dip and strike of a planar structure:\n",
    "\n",
    "    <Strike>/<dip>\n",
    "Considering a bedding N30E/15 and a fault S60E/ 30 in a sedimentary structure, please store variables of \n",
    "\n",
    "- `strike1`, `dip1` for bedding and,\n",
    "- `strike2`, `dip2` for fault geometry respectively"
   ]
  },
  {
   "cell_type": "code",
   "execution_count": null,
   "metadata": {
    "collapsed": true,
    "deletable": true,
    "editable": true
   },
   "outputs": [],
   "source": [
    "# Type your code below"
   ]
  },
  {
   "cell_type": "markdown",
   "metadata": {
    "deletable": true,
    "editable": true
   },
   "source": [
    "##### 1.3 Manual for planer projection in stereonet\n",
    "\n",
    "`mplstereonet` is a python2 code incoperates matplotlib.pyplot to plot stereonet projections. It uses `axes` object in matplotlib to create plot for planes, lines and rakes and conduct probability analysis for real earth problems. \n",
    "\n",
    "`mplstereonet` uses axis object in matplotlib.pyplot to create different layers of plotting. The first and foremost layer is a basemap layer. It is created by specifying 'stereonet' in the keyword argument of projection. \n",
    "\n",
    "Here shows a sample code to create a basemap of stereonet plot. \n",
    "\n",
    "    Include the following code below\n",
    "\n",
    "```Python\n",
    "fig = plt.figure(figsize=(8,8))\n",
    "ax = fig.add_subplot(111, projection='stereonet')\n",
    "```\n",
    "\n",
    "After the creation of axes object, different stereonet plotting can use the attribute functions including `ax.pole`, `ax.plane`, etc to plot different structures projected on the stereonet. \n",
    "\n",
    "Please try `ax.plane?` and `ax.pole` respectively to read the manual for ploting planar structure. The code will pop up a manuel for `ax.plane` and `ax.pole` function. "
   ]
  },
  {
   "cell_type": "code",
   "execution_count": null,
   "metadata": {
    "collapsed": false,
    "deletable": true,
    "editable": true
   },
   "outputs": [],
   "source": [
    "# Include the basemap code  (fig = ...)\n",
    "\n",
    "\n",
    "# try `ax.plane?` and `ax.pole` respectively\n"
   ]
  },
  {
   "cell_type": "markdown",
   "metadata": {
    "deletable": true,
    "editable": true
   },
   "source": [
    "##### 1.4 Plot Planar Structure\n",
    "In the following please plot the two structures using `ax.plane`. \n",
    "We would like to include color and label in the `ax.plane` steronet plot. Include\n",
    "` c=xxx, label='xxxxx %03d/%02d' % (xxx, xxx)` in the keyword arguments of `ax.plane`.\n",
    "\n",
    "In addition, we would like to add the legend and grid for the stereonet plot.  - `ax.grid()`and `ax.legend()`\n"
   ]
  },
  {
   "cell_type": "code",
   "execution_count": null,
   "metadata": {
    "collapsed": false,
    "deletable": true,
    "editable": true
   },
   "outputs": [],
   "source": [
    "fig = plt.figure(figsize=(8,8))\n",
    "ax = fig.add_subplot(111, projection='stereonet')\n",
    "\n",
    "# Type your code below\n",
    "ax.plane(...)\n"
   ]
  },
  {
   "cell_type": "markdown",
   "metadata": {
    "collapsed": true,
    "deletable": true,
    "editable": true
   },
   "source": [
    "<a id='part2'></a>\n",
    "### Part 2 Lai Chi Chong Bedding Data Determination\n",
    "\n",
    "The following will introduce a case study. \n",
    "\n",
    "Considering a group of ESSC students went to Lai Chi Chong field trip in ESSC3010 to study the sedimentology of the [Lai Chi Chong formation](https://www.cedd.gov.hk/eng/about-us/organisation/geo/pub_info/memoirs/geology/vol/jll/index.html) . In the field, they have collected multiple measurements of the bedding layer along the coast of the silty mudstone. \n",
    "\n",
    "The data is collected in Lai_chi_chong_bedding.data \n",
    "\n",
    "***"
   ]
  },
  {
   "cell_type": "markdown",
   "metadata": {
    "deletable": true,
    "editable": true
   },
   "source": [
    "##### 2.1 Read data in Lai_chi_chong_bedding.data \n",
    "\n",
    "First, let us read the data file using `numpy.loadtxt`. We would like to output a array named as `LLC_bedding` with dtype as ```integer``` and print the number of datasets and data array. \n",
    "\n",
    "i.e. \n",
    "```python\n",
    "xxx = np.loadtxt('file', dypte=???)\n",
    "```"
   ]
  },
  {
   "cell_type": "code",
   "execution_count": null,
   "metadata": {
    "collapsed": false,
    "deletable": true,
    "editable": true
   },
   "outputs": [],
   "source": [
    "# Type your code below\n"
   ]
  },
  {
   "cell_type": "markdown",
   "metadata": {
    "deletable": true,
    "editable": true
   },
   "source": [
    "##### 2.2 Plot the stereonet\n",
    "\n",
    "We would like to plot the measured bedding data into stereonet. Please also include a title of `Lai Chi Chong Bedding Data` in the figure."
   ]
  },
  {
   "cell_type": "code",
   "execution_count": null,
   "metadata": {
    "collapsed": false,
    "deletable": true,
    "editable": true
   },
   "outputs": [],
   "source": [
    "fig = plt.figure(figsize=(8,8))\n",
    "ax = fig.add_subplot(111, projection='stereonet')\n",
    "# Type your code below\n"
   ]
  },
  {
   "cell_type": "markdown",
   "metadata": {
    "deletable": true,
    "editable": true
   },
   "source": [
    "##### 2.3 Plot the distribution of the measurements\n",
    "Since the bedding in the field are exposed and succumb to weathering and errosion, muliple measurements are made to reduce the error from human measurments and the inperfect bedding surface. Here, we would like to quantify the distribtions of the measured data and find a best fit solution representing the bedding geometry in Lai Chi Chong.\n",
    "\n",
    "***"
   ]
  },
  {
   "cell_type": "markdown",
   "metadata": {
    "deletable": true,
    "editable": true
   },
   "source": [
    "###### 2.3.1 Store dip and strike variable\n",
    "Convert LLC_bedding array into two numpy array of dip and strike respectively and create a variable `confidence` with floating point value 99\n",
    "\n",
    "Here we would use `mplstereonet.find_fisher_stats` function to find the mean plane out of the measurements within certain confidence level. Please read the manuel of `mplstereonet.find_fisher_stats`\n",
    "\n",
    "question whats the difference between contourf and contour\n",
    "position input for mplstereonet.find_fisher_stats with measurements = 'poles' and output"
   ]
  },
  {
   "cell_type": "code",
   "execution_count": null,
   "metadata": {
    "collapsed": false,
    "deletable": true,
    "editable": true
   },
   "outputs": [],
   "source": [
    "# Type your code below\n",
    "confidence =\n",
    "\n",
    "#\n",
    "print('strikes', strike)\n",
    "print('dips', dip)\n",
    "\n",
    "\n",
    "\n"
   ]
  },
  {
   "cell_type": "markdown",
   "metadata": {
    "deletable": true,
    "editable": true
   },
   "source": [
    "###### 2.3.2 Function converting plunge, bearing of a pole to strike and dip of the plane\n",
    "\n",
    "The output of the mplstereonet.find_fisher_stats are the plunge and bearing of the mean pole. Please create a function to convert (plunge, bearing) to (strike, dip)\n",
    "\n",
    "   $$strike = bearing + 90$$\n",
    "   \n",
    "   $$dip = 90 - plunge$$"
   ]
  },
  {
   "cell_type": "code",
   "execution_count": null,
   "metadata": {
    "collapsed": false,
    "deletable": true,
    "editable": true
   },
   "outputs": [],
   "source": [
    "# complete the function\n",
    "def convert(plunge, bearing):\n",
    "    \"\"\"Convert plunge & bearing of a pole to strike and dip\n",
    "    \n",
    "    Parameters\n",
    "    ----------\n",
    "    plunge, bearing: geometric angles of the pole\n",
    "    \n",
    "    Returns\n",
    "    -------\n",
    "    strike, dip\n",
    "    \"\"\"\n",
    "\n",
    "    return \n",
    "convert?\n",
    "print(convert(0,90))"
   ]
  },
  {
   "cell_type": "markdown",
   "metadata": {
    "deletable": true,
    "editable": true
   },
   "source": [
    "###### 2.3.3 Plot\n",
    "\n",
    "The following we will compute the statistics and find a mean plane according to the confidence level. These functions would be included in the calculation and plot. \n",
    "\n",
    "```python\n",
    "    # Plotting\n",
    "    ax.pole\n",
    "    ax.plane\n",
    "    ax.density_contourf\n",
    "    ax.density_contour\n",
    "    \n",
    "    # Computing best fit plane\n",
    "    mplstereonet.find_fisher_stats\n",
    "    \n",
    "    # Annotations\n",
    "    ax.cone\n",
    "    ax.legend\n",
    "    ax.grid\n",
    "```\n",
    "Complete the code with the guidlines listed as comments."
   ]
  },
  {
   "cell_type": "code",
   "execution_count": null,
   "metadata": {
    "collapsed": false,
    "deletable": true,
    "editable": true
   },
   "outputs": [],
   "source": [
    "# Setup Figure & axis\n",
    "fig = plt.figure(figsize=(8,8))\n",
    "ax = fig.add_subplot(111, projection='stereonet')\n",
    "\n",
    "\n",
    "### Complete the code below\n",
    "# Plot Poles of the data with label: measurments and color in grey\n",
    "\n",
    "\n",
    "# Overlay a contour plot using ax.density_contourf\n",
    "\n",
    "\n",
    "# Plot the planes of measurments in white\n",
    "\n",
    "\n",
    "# Compute the vector and stats of the measurements using \n",
    "# mplstereonet.find_fisher_stats with desired confidence level and measurement \n",
    "# mplstereonet.find_fisher_stats\n",
    "\n",
    "\n",
    "# Convert the pole vector with plunge and inclination \n",
    "# to strike and dip of a plane\n",
    "\n",
    "\n",
    "# Plot the resulting dip and strike bedding using ax.pole and ax.plane \n",
    "# with red color and label\n",
    "\n",
    "\n",
    "# Plot the confidence level circle used in the calcualtion using\n",
    "# ax.cone(plunge, inclination, stats[1], facecolor='None',edgecolor=\"red\")\n",
    "\n",
    "\n",
    "# Add legend\n",
    "\n",
    "\n",
    "# Add other customized plot if you would like\n",
    "#fig.colorbar(cax)\n",
    "\n",
    "\n",
    "# print the resulting strike and dip using xxx(strike)/xx(dip)\n",
    "print('%03d/%02d'% (mean_strike, mean_dip))"
   ]
  },
  {
   "cell_type": "markdown",
   "metadata": {
    "deletable": true,
    "editable": true
   },
   "source": [
    "<a id='part3'></a>\n",
    "### Part 3 [Optional] [Advance] \n",
    "### Determining Slump Fold Axis in Lai Chi Chong using Python \n",
    "\n",
    " <img src=\"fig/LLC_slumpfold.jpg\">\n",
    " \n",
    "The photo shows a nice slump fold in Lai Chi Chong. The photo is looking North and the fold has a scale of multiple meters. In the following section, we are going to determine the folding axis using  measurements from the field trip studies.\n",
    "\n",
    "The data is stored in `lai_chi_chong_fold.data` with format of strike and dip. Some strike data are in whole bearing and some are in relative bearing. To recall the methods locating the fold axis from measurments, the following figure show $\\pi$ and $\\beta$ methods. In `mplstereonet`, the function `mplstereonet.fit_girdle(*args, **kwargs)` fits a plane to a scatter of points on a stereonet, thus uses $\\pi$ method to locate the fold axis. \n",
    "\n",
    " <img src=\"fig/Fold_axis_method.gif\">"
   ]
  },
  {
   "cell_type": "markdown",
   "metadata": {
    "deletable": true,
    "editable": true
   },
   "source": [
    "###### 3.1 $\\pi$ diagram and $\\beta$ diagram for slump fold in LLC\n",
    "Here are some usefult functions that you may use to locate the fold axis and plot in stereonet.\n",
    "\n",
    "```python\n",
    "# Plotting class\n",
    "ax.density_contourf\n",
    "ax.density_contour\n",
    "ax.plane\n",
    "ax.pole\n",
    "ax.annotate\n",
    "ax.grid\n",
    "ax.legend\n",
    "ax.set_title\n",
    "\n",
    "# Fitting a plane and useful conversion\n",
    "mplstereonet.fit_girdle\n",
    "mplstereonet.pole2plunge_bearing\n",
    "```\n",
    "Please plot a figure with a $\\pi$ diagram and a $\\beta$ diagram."
   ]
  },
  {
   "cell_type": "code",
   "execution_count": null,
   "metadata": {
    "collapsed": false,
    "deletable": true,
    "editable": true
   },
   "outputs": [],
   "source": [
    "# Read data \n",
    "\n",
    "\n",
    "### Create figure class and first subplot\n",
    "fig = plt.figure(figsize=(16,8))\n",
    "ax = fig.add_subplot(121, projection='stereonet')\n",
    "\n",
    "# Plot Density\n",
    "\n",
    "\n",
    "# Fit a plane to the girdle of the distribution and display it.\n",
    "\n",
    "\n",
    "# Add annotation of the resulting fold axis\n",
    "\n",
    "\n",
    "### Second figure showing beta method\n",
    "ax = fig.add_subplot(122, projection='stereonet')\n",
    "\n",
    "# Plot density\n",
    "\n",
    "\n",
    "# Fit a plane to the girdle of the distribution and display it.\n",
    "\n",
    "\n",
    "# Add annotation of the resulting fold axis\n",
    "\n",
    "\n",
    "fig.show()\n"
   ]
  },
  {
   "cell_type": "markdown",
   "metadata": {
    "deletable": true,
    "editable": true
   },
   "source": [
    " The results should be similar to the following figure.\n",
    " <img src=\"fig/LCC_slumpfoldaxe.png\">"
   ]
  },
  {
   "cell_type": "markdown",
   "metadata": {
    "deletable": true,
    "editable": true
   },
   "source": [
    "<a id='part4'></a>\n",
    "### Part 4 [Optional] [Advance] \n",
    "### Fault and Stress distribution using Stereonet\n",
    "\n",
    "Incomplete\n",
    "http://www.files.ethz.ch/structuralgeology/JPB/files/English/5paleostress.pdf"
   ]
  },
  {
   "cell_type": "markdown",
   "metadata": {
    "deletable": true,
    "editable": true
   },
   "source": [
    "##### 4.1 First motion polarity and fault orientation using Stereonet"
   ]
  },
  {
   "cell_type": "code",
   "execution_count": null,
   "metadata": {
    "collapsed": true,
    "deletable": true,
    "editable": true
   },
   "outputs": [],
   "source": []
  },
  {
   "cell_type": "code",
   "execution_count": null,
   "metadata": {
    "collapsed": true,
    "deletable": true,
    "editable": true
   },
   "outputs": [],
   "source": []
  }
 ],
 "metadata": {
  "kernelspec": {
   "display_name": "Python 2",
   "language": "python",
   "name": "python2"
  },
  "language_info": {
   "codemirror_mode": {
    "name": "ipython",
    "version": 2
   },
   "file_extension": ".py",
   "mimetype": "text/x-python",
   "name": "python",
   "nbconvert_exporter": "python",
   "pygments_lexer": "ipython2",
   "version": "2.7.15"
  }
 },
 "nbformat": 4,
 "nbformat_minor": 2
}
